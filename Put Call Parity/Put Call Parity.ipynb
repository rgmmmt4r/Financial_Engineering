{
 "cells": [
  {
   "cell_type": "code",
   "execution_count": 24,
   "id": "f19417f1",
   "metadata": {},
   "outputs": [],
   "source": [
    "def Portfolio_A(St,X):\n",
    "    Ct= max(St-X,0)\n",
    "    return Ct + X\n",
    "def Portfolio_B(St,X):\n",
    "    Pt = max(X-St,0)\n",
    "    return Pt + St"
   ]
  },
  {
   "cell_type": "code",
   "execution_count": 25,
   "id": "46df3dd7",
   "metadata": {},
   "outputs": [
    {
     "data": {
      "text/plain": [
       "50"
      ]
     },
     "execution_count": 25,
     "metadata": {},
     "output_type": "execute_result"
    }
   ],
   "source": [
    "Portfolio_A(10,50)"
   ]
  },
  {
   "cell_type": "code",
   "execution_count": 26,
   "id": "405c0376",
   "metadata": {},
   "outputs": [
    {
     "data": {
      "text/plain": [
       "50"
      ]
     },
     "execution_count": 26,
     "metadata": {},
     "output_type": "execute_result"
    }
   ],
   "source": [
    "Portfolio_A(10,50)"
   ]
  },
  {
   "cell_type": "code",
   "execution_count": 27,
   "id": "4b16fea0",
   "metadata": {},
   "outputs": [
    {
     "data": {
      "image/png": "[encoded data removed]",
      "text/plain": [
       "<Figure size 432x288 with 1 Axes>"
      ]
     },
     "metadata": {
      "needs_background": "light"
     },
     "output_type": "display_data"
    }
   ],
   "source": [
    "import numpy as np\n",
    "import matplotlib.pyplot as plt\n",
    "\n",
    "St_list = np.arange(0,200,0.2)\n",
    "A_valuts_at_T = [Portfolio_A(St,50) for St in St_list]\n",
    "B_valuts_at_T = [Portfolio_B(St,50) for St in St_list]\n",
    "\n",
    "plt.plot(St_list,A_valuts_at_T, label = \"A values\")\n",
    "plt.plot(St_list,B_valuts_at_T, label = \"B values\")\n",
    "plt.legend()\n",
    "plt.show()"
   ]
  },
  {
   "cell_type": "code",
   "execution_count": null,
   "id": "5064f21b",
   "metadata": {},
   "outputs": [],
   "source": [
    "()"
   ]
  }
 ],
 "metadata": {
  "kernelspec": {
   "display_name": "Python 3",
   "language": "python",
   "name": "python3"
  },
  "language_info": {
   "codemirror_mode": {
    "name": "ipython",
    "version": 3
   },
   "file_extension": ".py",
   "mimetype": "text/x-python",
   "name": "python",
   "nbconvert_exporter": "python",
   "pygments_lexer": "ipython3",
   "version": "3.6.13"
  }
 },
 "nbformat": 4,
 "nbformat_minor": 5
}
